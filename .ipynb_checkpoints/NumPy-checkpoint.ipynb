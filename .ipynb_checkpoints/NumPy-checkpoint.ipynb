{
 "cells": [
  {
   "cell_type": "markdown",
   "metadata": {},
   "source": [
    "# Table of Content\n",
    "[NumPy](#NumPy)\n",
    "    \n",
    "* [Introduction](#Introduction)\n",
    "* [Data Types in Python](#DataTypesInPython)\n",
    "* [NumPy Standard Data Types](#NumPyStandardDataTypes)\n",
    "* [NumPy Arrays](#NumPyArrays)\n",
    "\t* [NumPy Array Attributes](#NumPyArrayAttributes)\n",
    "\t* [Indexing](#Indexing) \n",
    "\t* [Slicing](#Slicing)\n",
    "* [Array Reshape](#ArrayReshape)\n",
    "* [Array Concatenation And Splitting](#ArrayConcatenationAndSplitting)\n",
    "* [Array Math](#ArrayMath)\n",
    "* [Broadcasting](#Broadcasting)\n",
    "* [Numpy Documentation](#NumpyDocumentation)\n",
    "\n",
    "\n",
    "# <a id=\"NumPy\"></a>NumPy\n",
    "\n",
    "## <a id=\"Introduction\"></a>Introduction\n",
    "\n",
    "Datasets can come from a various range of sources and formats, like \n",
    "collections of documents, images, sound clips, numerical measurements etc. \n",
    "Despite this apparent heterogeneity, it will help us to think of all data fundamentally as arrays of numbers.\n",
    "\n",
    "Digital images can be seen as two-dimensional arrays of numbers. \n",
    "Sound clips can be seen as one-dimensional arrays of intensity versus time. \n",
    "Text can be converted in various ways into numerical representations, like frequency of words or pairs of words. \n",
    "No matter what the data are, the first step in making it analyzable will be to transform them into arrays of numbers(This process is called Feature Engineering). \n",
    "\n",
    "Therefore storage and manipulation of numerical arrays is absolutely fundamental to the process of doing data science.\n",
    "\n",
    "Python offers specialized tools for handling numerical arrays, the NumPy package.\n",
    "\n",
    "NumPy is the fundamental package for scientific computing with Python. It provides a high-performance multidimensional array object, and tools for working with these arrays.\n",
    "It contains among other things:\n",
    "\n",
    " * a powerful N-dimensional array object\n",
    " * sophisticated (broadcasting) functions\n",
    " * tools for integrating C/C++ and Fortran code\n",
    " * useful linear algebra, Fourier transform, and random number capabilities\n",
    "\n",
    "More details about the NumPy can be found at http://www.numpy.org/"
   ]
  },
  {
   "cell_type": "markdown",
   "metadata": {},
   "source": [
    "## <a id=\"DataTypesInPython\"></a>Data Types In Python\n",
    "\n",
    "Python is dynamicly typed language. \n",
    "Statically-typed languages like C or Java requires that type of the each variable has to be explicitly declared, \n",
    "while dynamically-typed language like Python skips this specification. \n",
    "\n",
    "For example, in C you might specify a particular operation as follows:\n",
    "\n",
    "```\n",
    "int counter = 0;\n",
    "for(int i=0; i<100; i++){\n",
    "    counter += i;\n",
    "}\n",
    "```\n",
    "\n",
    "In Python same operation can be written as follows:\n",
    "\n",
    "```\n",
    "counter = 0\n",
    "for i in range(100):\n",
    "    counter += i\n",
    "```\n",
    "\n",
    "So in C, the data types of each variable are explicitly declared, while in Python the types are dynamically inferred. \n",
    "This means, for example, that in Python we can assign any kind of data to any variable:\n",
    "\n",
    "```\n",
    "a = 1\n",
    "a = \"one\"\n",
    "```\n",
    "\n",
    "If we try similar thing in C, we will end up in compilation error:\n",
    "\n",
    "```\n",
    "int a = 1;\n",
    "a = \"one\"; // compilation error\n",
    "```\n",
    "\n",
    "This sort of flexibility is one piece that makes Python and other dynamically-typed languages convenient and easy to use. \n",
    "But in order to have type-flexibility, Python variables does not hold only the values, they  hold extra information about the type of the value. \n",
    "\n",
    "The standard Python implementation is written in C. \n",
    "This means that every Python object is a C structure, which contains it's value and other neccesary information. \n",
    "\n",
    "For example, when we define an integer in Python, \n",
    "such as **a = 1**,  **a** is actually a pointer to a C structure. \n",
    "Looking through the Python 3.4 source code, we find that the integer (long) type definition effectively looks like:\n",
    "\n",
    "\n",
    "```\n",
    "struct _longobject {\n",
    "    long ob_refcnt;\n",
    "    PyTypeObject *ob_type;\n",
    "    size_t ob_size;\n",
    "    long ob_digit[1];\n",
    "};\n",
    "```\n",
    "\n",
    "A single integer in Python 3.4 actually contains four pieces:\n",
    "\n",
    " * **ob_refcnt**, a reference count \n",
    " * **ob_type**,   holds type of the variable\n",
    " * **ob_size**,   holds size size of the data members\n",
    " * **ob_digit**,  which contains the actual value \n",
    "\n",
    "This means that there is some overhead in storing an integer in Python as compared to an integer in a compiled language like C, \n",
    "\n",
    "So in C integer is essentially a pointer to position in memory whose bytes encode an integer value. \n",
    "A Python integer is a pointer to a position in memory containing all the Python object information, including the bytes that contain the integer value. \n",
    "This extra information in the Python integer structure is what gives the flexibilty to Python to be coded so freely and dynamically. \n",
    "But flexibility comes at a cost, which becomes especially apparent in structures that combine many of these objects.\n",
    "\n",
    "So, in short Python data types has overhead, comparing to C data types.\n",
    "\n",
    "Now if we consider Python aggregates like list, then we will have even more overhead in comparism to C.\n",
    "\n",
    "Python list are defined as follows:\n",
    "\n",
    "```\n",
    "pythonList = list(range(5))\n",
    "```\n",
    "\n",
    "List can hold varius data types:\n",
    "\n",
    "```\n",
    "pythonList = [True, \"2\", 3.0, 4]\n",
    "```\n",
    "\n",
    "\n",
    "Each item in the list must contain its own type info, reference count, and other information. \n",
    "In the special case when all variables are of the same type, much of this information is redundant: it can be much more efficient to store data in a fixed-type array.\n",
    "\n",
    "NumPy is implemented with idea to reduce mentioned overhead in order to provide fast computation.\n",
    "NumPy is implemented in C, based on Atlas library(http://math-atlas.sourceforge.net/), which is a library for linear algebra operations.\n",
    "The library's name is actually short for **Numeric Python** or **Numerical Python**.\n",
    "\n",
    "NumPy is implemented around fixed-type arrays which are much more efficient for storing and manipulating data.\n",
    "Even Python from version 3.3 offers the built-in **array** module\n",
    "\n",
    "\n",
    "```\n",
    "import array\n",
    "L = list(range(10))\n",
    "A = array.array('i', L)\n",
    "```\n",
    "\n",
    "Array module is efficient for storing array-based data, \n",
    "while NumPy library adds efficient operations on that data. \n",
    "\n",
    "So, in short, NumPy is a Python library that is the core library for scientific computing in Python. \n",
    "It contains a collection of tools and techniques that can be used to solve on a computer mathematical models of problems in Science and Engineering. \n",
    "One of these tools is a high-performance multidimensional **array** object that is a powerful data structure for efficient computation of arrays and matrices. \n",
    "To work with these arrays, there's a huge amount of high-level mathematical functions which are operating on these matrices and arrays.\n",
    "\n",
    "However, on a structural level, an NumPy **array** is basically nothing but pointers. It's a combination of a memory address, a data type, a shape and strides:\n",
    "\n",
    " * the **data**,     pointer indicates the memory address of the first byte in the array\n",
    " * the **data**,     type or dtype pointer describes the kind of elements that are contained within the array\n",
    " * the **shape**,    indicates the shape of the array\n",
    " * the **strides**,  are the number of bytes that should be skipped in memory to go to the next element\n",
    " \n",
    "\n",
    "In other words, an NumPy **array** contains information about the raw data, how to locate an element and how to interpret an element.\n",
    "\n",
    "Looking through the NumPy code, we can see how NumPy **array** structure is implemented:\n",
    "\n",
    "```\n",
    "typedef struct PyArrayObject {\n",
    "        PyObject_HEAD\n",
    "\n",
    "        /* Block of memory */\n",
    "        char *data;\n",
    "\n",
    "        /* Data type descriptor */\n",
    "        PyArray_Descr *descr;\n",
    "\n",
    "        /* Indexing scheme */\n",
    "        int nd;\n",
    "        npy_intp *dimensions;\n",
    "        npy_intp *strides;\n",
    "\n",
    "        /* Other stuff */\n",
    "        PyObject *base;\n",
    "        int flags;\n",
    "        PyObject *weakreflist;\n",
    "} PyArrayObject;\n",
    "```\n",
    "\n",
    "Now let's build first NumPy array:\n",
    "\n"
   ]
  },
  {
   "cell_type": "code",
   "execution_count": 1,
   "metadata": {},
   "outputs": [
    {
     "data": {
      "text/plain": [
       "array([0, 0, 0, 0, 0, 0, 0, 0, 0, 0])"
      ]
     },
     "execution_count": 1,
     "metadata": {},
     "output_type": "execute_result"
    }
   ],
   "source": [
    "import numpy as np\n",
    "\n",
    "# Create a length-10 integer array filled with zeros\n",
    "np.zeros(10, dtype=int)\n"
   ]
  },
  {
   "cell_type": "markdown",
   "metadata": {},
   "source": [
    "## <a id=\"NumPyStandardDataTypes\"></a>NumPy Standard Data Types\n",
    "\n",
    "\n",
    "NumPy arrays contain values of a single type, so it is important to have detailed knowledge of those types and their limitations. \n",
    "Because NumPy is built in C, the types will be familiar to users of C, Fortran, and other related languages.\n",
    "\n",
    "The standard NumPy data types are listed in table bellow. Note that when constructing an **array**, data type can be specified using a string:\n"
   ]
  },
  {
   "cell_type": "code",
   "execution_count": 2,
   "metadata": {},
   "outputs": [
    {
     "data": {
      "text/plain": [
       "array([0, 0, 0, 0, 0, 0, 0, 0, 0, 0], dtype=int16)"
      ]
     },
     "execution_count": 2,
     "metadata": {},
     "output_type": "execute_result"
    }
   ],
   "source": [
    "np.zeros(10, dtype='int16')"
   ]
  },
  {
   "cell_type": "markdown",
   "metadata": {},
   "source": [
    "Or using the associated NumPy object:"
   ]
  },
  {
   "cell_type": "code",
   "execution_count": 3,
   "metadata": {},
   "outputs": [
    {
     "data": {
      "text/plain": [
       "array([0, 0, 0, 0, 0, 0, 0, 0, 0, 0], dtype=int16)"
      ]
     },
     "execution_count": 3,
     "metadata": {},
     "output_type": "execute_result"
    }
   ],
   "source": [
    "np.zeros(10, dtype=np.int16)"
   ]
  },
  {
   "cell_type": "markdown",
   "metadata": {},
   "source": [
    "| Data type        | Description                                                                      |\n",
    "|------------------|----------------------------------------------------------------------------------|\t\t\t        \n",
    "|   **bool_**\t   | Boolean (True or False) stored as a byte                                         |\n",
    "|   **int_**\t   | Default integer type (same as C long; normally either int64 or int32)            |\n",
    "|   **intp**\t   | Integer used for indexing (same as C ssize_t; normally either int32 or int64)    |\n",
    "|   **int8**\t   | Byte (-128 to 127)                                                               |\n",
    "|   **int16**\t   | Integer (-32768 to 32767)                                                        |\n",
    "|   **int32**\t   | Integer (-2147483648 to 2147483647)                                              |\n",
    "|   **int64**\t   | Integer (-9223372036854775808 to 9223372036854775807)                            |\n",
    "|   **uint8**\t   | Unsigned integer (0 to 255)                                                      |\n",
    "|   **uint16**\t   | Unsigned integer (0 to 65535)                                                    |\n",
    "|   **uint32**\t   | Unsigned integer (0 to 4294967295)                                               |\n",
    "|   **uint64**\t   | Unsigned integer (0 to 18446744073709551615)                                     |\n",
    "|   **float_**\t   | Shorthand for float64                                                            |\n",
    "|   **float16**\t   | Half precision float: sign bit, 5 bits exponent, 10 bits mantissa                |\n",
    "|   **float32**\t   | Single precision float: sign bit, 8 bits exponent, 23 bits mantissa              |\n",
    "|   **float64**\t   | Double precision float: sign bit, 11 bits exponent, 52 bits mantissa             |\n",
    "|   **complex_**   | Shorthand for complex128                                                         |\n",
    "|   **complex64**  | Complex number, represented by two 32-bit floats                                 |\n",
    "|   **complex128** | Complex number, represented by two 64-bit floats                                 |  \n",
    "\n",
    "More advanced type specification is possible, such as specifying big or little endian numbers, for more information, refer to the NumPy documentation. \n"
   ]
  },
  {
   "cell_type": "markdown",
   "metadata": {},
   "source": [
    "## <a id=\"NumPyArrays\"></a>NumPy Arrays\n",
    "\n",
    "Let's start with NumPy's random number generator, which we will seed with a set value in order to ensure that the same random \n",
    "arrays are generated each time this code is executed:"
   ]
  },
  {
   "cell_type": "code",
   "execution_count": 4,
   "metadata": {
    "collapsed": true
   },
   "outputs": [],
   "source": [
    "np.random.seed(7) "
   ]
  },
  {
   "cell_type": "markdown",
   "metadata": {},
   "source": [
    "NumPy array can be created with many functions, let's start with function which filled the array with random values:"
   ]
  },
  {
   "cell_type": "code",
   "execution_count": 5,
   "metadata": {},
   "outputs": [
    {
     "name": "stdout",
     "output_type": "stream",
     "text": [
      "[4 9 6 3 3 7]\n",
      "[[7 9 7 8]\n",
      " [9 8 7 6]\n",
      " [4 0 7 0]]\n",
      "[[[7 6 3 5 8]\n",
      "  [8 7 5 0 0]\n",
      "  [2 8 9 6 4]\n",
      "  [9 7 3 3 8]]\n",
      "\n",
      " [[3 0 1 0 0]\n",
      "  [6 7 7 9 3]\n",
      "  [0 7 7 7 0]\n",
      "  [5 4 3 1 3]]\n",
      "\n",
      " [[1 3 4 3 1]\n",
      "  [9 5 9 1 2]\n",
      "  [3 2 2 5 7]\n",
      "  [3 0 9 9 3]]]\n"
     ]
    }
   ],
   "source": [
    "a1 = np.random.randint(10, size=6)  # One-dimensional array\n",
    "a2 = np.random.randint(10, size=(3, 4))  # Two-dimensional array\n",
    "a3 = np.random.randint(10, size=(3, 4, 5))  # Three-dimensional array\n",
    "print(a1)\n",
    "print(a2)\n",
    "print(a3)"
   ]
  },
  {
   "cell_type": "markdown",
   "metadata": {},
   "source": [
    "Another array initialization can be done from nested Python list:"
   ]
  },
  {
   "cell_type": "code",
   "execution_count": 6,
   "metadata": {},
   "outputs": [
    {
     "name": "stdout",
     "output_type": "stream",
     "text": [
      "[1 2 3]\n",
      "[[1 2 3]\n",
      " [4 5 6]]\n"
     ]
    }
   ],
   "source": [
    "a4 = np.array([1, 2, 3])  # One-dimensional array\n",
    "a5 = np.array([[1,2,3],[4,5,6]])    # Two-dimensional array\n",
    "print(a4)\n",
    "print(a5)"
   ]
  },
  {
   "cell_type": "markdown",
   "metadata": {},
   "source": [
    "Other possibilities are:"
   ]
  },
  {
   "cell_type": "code",
   "execution_count": 7,
   "metadata": {
    "collapsed": true
   },
   "outputs": [],
   "source": [
    "a6 = np.zeros((2,2))   # Create an array of all zeros\n",
    "a7 = np.ones((1,2))    # Create an array of all ones\n",
    "a8 = np.full((2,2), 7)  # Create a constant array\n",
    "a9 = np.eye(2)         # Create an 2x2 identity matrix\n",
    "a10 = np.linspace(0, 100, 6) # Create an array of 6 evenly divided values from 0 to 100\n",
    "a11 = np.arange(0, 10, 3) # Create an array of values from 0 to less than 10 with step 3 (eg [0,3,6,9]) \n",
    "a12 = np.full((2,3), 8) # Create and 2x3 array with all values 8"
   ]
  },
  {
   "cell_type": "code",
   "execution_count": 8,
   "metadata": {},
   "outputs": [
    {
     "name": "stdout",
     "output_type": "stream",
     "text": [
      "[[0. 0.]\n",
      " [0. 0.]]\n",
      "[[1. 1.]]\n",
      "[[7 7]\n",
      " [7 7]]\n",
      "[[1. 0.]\n",
      " [0. 1.]]\n",
      "[  0.  20.  40.  60.  80. 100.]\n",
      "[0 3 6 9]\n",
      "[[8 8 8]\n",
      " [8 8 8]]\n"
     ]
    }
   ],
   "source": [
    "print(a6)\n",
    "print(a7)\n",
    "print(a8)\n",
    "print(a9)\n",
    "print(a10)\n",
    "print(a11)\n",
    "print(a12)"
   ]
  },
  {
   "cell_type": "markdown",
   "metadata": {},
   "source": [
    "### <a id=\"NumPyArrayAttributes\"></a>NumPy Array Attributes\n",
    "\n",
    "NumPy array has attributes:   \n",
    " * **ndim** the number of dimensions   \n",
    " * **shape** the size of each dimension   \n",
    " * **size** the total size of the array   \n",
    " * **dtype** the data type of the array   \n",
    " * **itemsize** size in bytes of each array element   \n",
    " * **nbytes** lists the total size in bytes of the array   \n"
   ]
  },
  {
   "cell_type": "code",
   "execution_count": 9,
   "metadata": {},
   "outputs": [
    {
     "name": "stdout",
     "output_type": "stream",
     "text": [
      "a3 ndim:  3\n",
      "a3 shape: (3, 4, 5)\n",
      "a3 size:  60\n",
      "a3 dtype: int32\n",
      "a3 itemsize: 4 bytes\n",
      "a3 nbytes: 240 bytes\n"
     ]
    }
   ],
   "source": [
    "print(\"a3 ndim: \", a3.ndim)   \n",
    "print(\"a3 shape:\", a3.shape)   \n",
    "print(\"a3 size: \", a3.size)   \n",
    "print(\"a3 dtype:\", a3.dtype)   \n",
    "print(\"a3 itemsize:\", a3.itemsize, \"bytes\")   \n",
    "print(\"a3 nbytes:\", a3.nbytes, \"bytes\")"
   ]
  },
  {
   "cell_type": "markdown",
   "metadata": {},
   "source": [
    "### <a id=\"Indexing\"></a>Indexing\n",
    "\n",
    "Indexing is similar to standard Python indexing.\n",
    "In one dimensional array, element can be accessed with sqare brackets:\n"
   ]
  },
  {
   "cell_type": "code",
   "execution_count": 10,
   "metadata": {},
   "outputs": [
    {
     "name": "stdout",
     "output_type": "stream",
     "text": [
      "[4 9 6 3 3 7]\n",
      "4\n"
     ]
    }
   ],
   "source": [
    "print(a1)\n",
    "print(a1[0])"
   ]
  },
  {
   "cell_type": "markdown",
   "metadata": {},
   "source": [
    "In a multi-dimensional array, items can be accessed using a comma-separated tuple of indices:"
   ]
  },
  {
   "cell_type": "code",
   "execution_count": 11,
   "metadata": {},
   "outputs": [
    {
     "name": "stdout",
     "output_type": "stream",
     "text": [
      "[[7 9 7 8]\n",
      " [9 8 7 6]\n",
      " [4 0 7 0]]\n",
      "7\n"
     ]
    }
   ],
   "source": [
    "print(a2)\n",
    "print(a2[0, 0])"
   ]
  },
  {
   "cell_type": "markdown",
   "metadata": {},
   "source": [
    "Values can also be modified using any of the above index notation:"
   ]
  },
  {
   "cell_type": "code",
   "execution_count": 12,
   "metadata": {},
   "outputs": [
    {
     "name": "stdout",
     "output_type": "stream",
     "text": [
      "[[1111    9    7    8]\n",
      " [   9    8    7    6]\n",
      " [   4    0    7    0]]\n"
     ]
    }
   ],
   "source": [
    "a2[0, 0] = 1111\n",
    "print(a2)\n"
   ]
  },
  {
   "cell_type": "markdown",
   "metadata": {},
   "source": [
    "\n",
    "### <a id=\"Slicing\"></a>Slicing\n",
    "\n",
    "Square brackets can be used to access subarrays with the slice notation, marked by the colon (:) character. \n",
    "The NumPy slicing syntax follows standard Python list syntax to access a slice of an array x, use:\n",
    "\n",
    "\n",
    "```\n",
    "x[start:stop:step]\n",
    "```\n",
    "\n",
    "If any of these are unspecified, default values are **start=0**, **stop=size of dimension**, **step=1**. \n",
    "\n",
    "One-dimensional arrays:"
   ]
  },
  {
   "cell_type": "code",
   "execution_count": 13,
   "metadata": {},
   "outputs": [
    {
     "name": "stdout",
     "output_type": "stream",
     "text": [
      "[0 1 2 3 4 5 6 7 8 9]\n",
      "[0 1]\n",
      "[2 3 4 5 6 7 8 9]\n",
      "[4 5 6]\n",
      "[0 2 4 6 8]\n"
     ]
    }
   ],
   "source": [
    "x = np.arange(10)\n",
    "\n",
    "print(x)\n",
    "print(x[:2])  # first two elements\n",
    "print(x[2:])  # elements after index 2\n",
    "print(x[4:7])  # middle sub-array\n",
    "print(x[::2])  # every second element"
   ]
  },
  {
   "cell_type": "markdown",
   "metadata": {},
   "source": [
    "Multi-dimensional arrays:"
   ]
  },
  {
   "cell_type": "code",
   "execution_count": 14,
   "metadata": {},
   "outputs": [
    {
     "name": "stdout",
     "output_type": "stream",
     "text": [
      "[[4 5 3 0]\n",
      " [4 8 6 7]\n",
      " [2 7 3 8]]\n",
      "[[4 5 3]\n",
      " [4 8 6]]\n",
      "[4 4 2]\n",
      "[4 5 3 0]\n"
     ]
    }
   ],
   "source": [
    "x = np.random.randint(10, size=(3, 4))  # Two-dimensional array\n",
    "\n",
    "print(x)\n",
    "\n",
    "print(x[:2, :3])  # two rows, three columns\n",
    "print(x[:, 0])  # first column of array x\n",
    "print(x[0, :])  # first row of array x"
   ]
  },
  {
   "cell_type": "markdown",
   "metadata": {},
   "source": [
    "Array slice(subarray) does not return copy of the array, it returns view of array.\n",
    "In Python list, slice returns copy of the list.\n",
    "\n",
    "Sometimes we have a need for copy a data within an array or a subarray. This can be easily done with the ***copy()*** method:"
   ]
  },
  {
   "cell_type": "code",
   "execution_count": 15,
   "metadata": {},
   "outputs": [
    {
     "name": "stdout",
     "output_type": "stream",
     "text": [
      "[[6 6 5 6]\n",
      " [5 7 1 5]\n",
      " [4 4 9 9]]\n",
      "[[6 6]\n",
      " [5 7]]\n",
      "[[45  6]\n",
      " [ 5  7]]\n",
      "[[6 6 5 6]\n",
      " [5 7 1 5]\n",
      " [4 4 9 9]]\n"
     ]
    }
   ],
   "source": [
    "x = np.random.randint(10, size=(3, 4))  # Two-dimensional array\n",
    "\n",
    "print(x)\n",
    "x_copy = x[:2, :2].copy() # Copy sun array\n",
    "print(x_copy)\n",
    "\n",
    "# If we now modify this subarray, the original array is not touched:\n",
    "\n",
    "x_copy[0, 0] = 45\n",
    "\n",
    "print(x_copy)\n",
    "print(x)\n",
    "\n"
   ]
  },
  {
   "cell_type": "markdown",
   "metadata": {},
   "source": [
    "## <a id=\"ArrayReshape\"></a>Array Reshape\n",
    "\n",
    "Arrays can be reshaped. Reshape can be executed with **reshape** function:"
   ]
  },
  {
   "cell_type": "code",
   "execution_count": 16,
   "metadata": {},
   "outputs": [
    {
     "name": "stdout",
     "output_type": "stream",
     "text": [
      "[1 2 3]\n",
      "[[1]\n",
      " [2]\n",
      " [3]]\n"
     ]
    }
   ],
   "source": [
    "x = np.array([1, 2, 3])\n",
    "\n",
    "print(x)\n",
    "\n",
    "x = x.reshape(3, 1) # Reshapes arr to 3 rows, 1 column without changing data\n",
    "\n",
    "print(x)"
   ]
  },
  {
   "cell_type": "markdown",
   "metadata": {},
   "source": [
    "Another usefull operation is operation of transposing a matrix. Transpoting is operation where rows become colums and vice versa.   \n",
    "\n",
    "In order to transpose and array, use the **T** attribute of an array object:\n"
   ]
  },
  {
   "cell_type": "code",
   "execution_count": 17,
   "metadata": {},
   "outputs": [
    {
     "name": "stdout",
     "output_type": "stream",
     "text": [
      "[[1 2]\n",
      " [3 4]]\n",
      "[[1 3]\n",
      " [2 4]]\n"
     ]
    }
   ],
   "source": [
    "x = np.array([[1,2], [3,4]])\n",
    "\n",
    "print(x) \n",
    "print(x.T) \n"
   ]
  },
  {
   "cell_type": "markdown",
   "metadata": {},
   "source": [
    "## <a id=\"ArrayConcatenationAndSplitting\"></a>Array Concatenation And Splitting\n",
    "\n",
    "\n",
    "It's also possible to combine multiple arrays into one, and to conversely split a single array into multiple arrays:\n"
   ]
  },
  {
   "cell_type": "code",
   "execution_count": 18,
   "metadata": {},
   "outputs": [
    {
     "data": {
      "text/plain": [
       "array([1, 2, 3, 3, 2, 1])"
      ]
     },
     "execution_count": 18,
     "metadata": {},
     "output_type": "execute_result"
    }
   ],
   "source": [
    "x = np.array([1, 2, 3])\n",
    "y = np.array([3, 2, 1])\n",
    "np.concatenate([x, y])"
   ]
  },
  {
   "cell_type": "markdown",
   "metadata": {},
   "source": [
    "Two-dimensional arrays can be combined as well:"
   ]
  },
  {
   "cell_type": "code",
   "execution_count": 19,
   "metadata": {},
   "outputs": [
    {
     "data": {
      "text/plain": [
       "array([[1, 2, 3],\n",
       "       [4, 5, 6],\n",
       "       [1, 2, 3],\n",
       "       [4, 5, 6]])"
      ]
     },
     "execution_count": 19,
     "metadata": {},
     "output_type": "execute_result"
    }
   ],
   "source": [
    "grid = np.array([[1, 2, 3],\n",
    "                 [4, 5, 6]])\n",
    "\n",
    "np.concatenate([grid, grid])"
   ]
  },
  {
   "cell_type": "markdown",
   "metadata": {},
   "source": [
    "If arrays has mixed dimensions, it is better to use the **vstack** (vertical stack) and **hstack** (horizontal stack) functions:\n"
   ]
  },
  {
   "cell_type": "code",
   "execution_count": 20,
   "metadata": {},
   "outputs": [
    {
     "data": {
      "text/plain": [
       "array([[1, 2, 3],\n",
       "       [9, 8, 7],\n",
       "       [6, 5, 4]])"
      ]
     },
     "execution_count": 20,
     "metadata": {},
     "output_type": "execute_result"
    }
   ],
   "source": [
    "x = np.array([1, 2, 3])\n",
    "grid = np.array([[9, 8, 7],\n",
    "                 [6, 5, 4]])\n",
    "\n",
    "# vertically stack the arrays\n",
    "np.vstack([x, grid])"
   ]
  },
  {
   "cell_type": "code",
   "execution_count": 21,
   "metadata": {},
   "outputs": [
    {
     "data": {
      "text/plain": [
       "array([[ 9,  8,  7, 99],\n",
       "       [ 6,  5,  4, 99]])"
      ]
     },
     "execution_count": 21,
     "metadata": {},
     "output_type": "execute_result"
    }
   ],
   "source": [
    "# horizontally stack the arrays\n",
    "y = np.array([[99],\n",
    "              [99]])\n",
    "np.hstack([grid, y])"
   ]
  },
  {
   "cell_type": "markdown",
   "metadata": {},
   "source": [
    "Similary, **dstack** will stack arrays along the third axis."
   ]
  },
  {
   "cell_type": "markdown",
   "metadata": {},
   "source": [
    "Splitting is implemented with functions **split**, **hsplit**, and **vsplit**."
   ]
  },
  {
   "cell_type": "code",
   "execution_count": 22,
   "metadata": {},
   "outputs": [
    {
     "name": "stdout",
     "output_type": "stream",
     "text": [
      "[1 2 3] [4 5] [6 7 8]\n"
     ]
    }
   ],
   "source": [
    "x = [1, 2, 3, 4, 5, 6, 7, 8]\n",
    "x1, x2, x3 = np.split(x, [3, 5])\n",
    "print(x1, x2, x3)"
   ]
  },
  {
   "cell_type": "markdown",
   "metadata": {},
   "source": [
    "## <a id=\"ArrayMath\"></a>Array Math\n",
    "\n",
    "Basic mathematical functions operates elementwise on arrays, and they are available as overloaded operator  \n",
    "and as functions in the NumPy module:\n"
   ]
  },
  {
   "cell_type": "code",
   "execution_count": 23,
   "metadata": {
    "collapsed": true
   },
   "outputs": [],
   "source": [
    "x = np.array([[1,2],[3,4]], dtype=np.float64)\n",
    "y = np.array([[5,6],[7,8]], dtype=np.float64)"
   ]
  },
  {
   "cell_type": "markdown",
   "metadata": {},
   "source": [
    "Elementwise add:"
   ]
  },
  {
   "cell_type": "code",
   "execution_count": 24,
   "metadata": {},
   "outputs": [
    {
     "name": "stdout",
     "output_type": "stream",
     "text": [
      "[[ 6.  8.]\n",
      " [10. 12.]]\n",
      "[[ 6.  8.]\n",
      " [10. 12.]]\n"
     ]
    }
   ],
   "source": [
    "print(x + y)\n",
    "print(np.add(x, y))"
   ]
  },
  {
   "cell_type": "markdown",
   "metadata": {},
   "source": [
    "Elementwise difference:"
   ]
  },
  {
   "cell_type": "code",
   "execution_count": 25,
   "metadata": {},
   "outputs": [
    {
     "name": "stdout",
     "output_type": "stream",
     "text": [
      "[[-4. -4.]\n",
      " [-4. -4.]]\n",
      "[[-4. -4.]\n",
      " [-4. -4.]]\n"
     ]
    }
   ],
   "source": [
    "print(x - y)\n",
    "print(np.subtract(x, y))"
   ]
  },
  {
   "cell_type": "markdown",
   "metadata": {},
   "source": [
    "Elementwise product:"
   ]
  },
  {
   "cell_type": "code",
   "execution_count": 26,
   "metadata": {},
   "outputs": [
    {
     "name": "stdout",
     "output_type": "stream",
     "text": [
      "[[ 5. 12.]\n",
      " [21. 32.]]\n",
      "[[ 5. 12.]\n",
      " [21. 32.]]\n"
     ]
    }
   ],
   "source": [
    "print(x * y)\n",
    "print(np.multiply(x, y))"
   ]
  },
  {
   "cell_type": "markdown",
   "metadata": {},
   "source": [
    "Elementwise division:"
   ]
  },
  {
   "cell_type": "code",
   "execution_count": 27,
   "metadata": {},
   "outputs": [
    {
     "name": "stdout",
     "output_type": "stream",
     "text": [
      "[[0.2        0.33333333]\n",
      " [0.42857143 0.5       ]]\n",
      "[[0.2        0.33333333]\n",
      " [0.42857143 0.5       ]]\n"
     ]
    }
   ],
   "source": [
    "print(x / y)\n",
    "print(np.divide(x, y))"
   ]
  },
  {
   "cell_type": "markdown",
   "metadata": {},
   "source": [
    "Elementwise square root:"
   ]
  },
  {
   "cell_type": "code",
   "execution_count": 28,
   "metadata": {},
   "outputs": [
    {
     "name": "stdout",
     "output_type": "stream",
     "text": [
      "[[1.         1.41421356]\n",
      " [1.73205081 2.        ]]\n"
     ]
    }
   ],
   "source": [
    "print(np.sqrt(x))"
   ]
  },
  {
   "cell_type": "markdown",
   "metadata": {},
   "source": [
    "For matrix manipulation **dot** is used:"
   ]
  },
  {
   "cell_type": "code",
   "execution_count": 29,
   "metadata": {},
   "outputs": [
    {
     "name": "stdout",
     "output_type": "stream",
     "text": [
      "[[19. 22.]\n",
      " [43. 50.]]\n",
      "[[19. 22.]\n",
      " [43. 50.]]\n"
     ]
    }
   ],
   "source": [
    "print(x.dot(y))\n",
    "print(np.dot(x, y))"
   ]
  },
  {
   "cell_type": "markdown",
   "metadata": {},
   "source": [
    "NumPy provides many useful functions for performing computations on arrays, one of the most useful is **sum**:"
   ]
  },
  {
   "cell_type": "code",
   "execution_count": 30,
   "metadata": {},
   "outputs": [
    {
     "name": "stdout",
     "output_type": "stream",
     "text": [
      "10.0\n",
      "[4. 6.]\n",
      "[3. 7.]\n"
     ]
    }
   ],
   "source": [
    "print(np.sum(x))  # Compute sum of all elements; \n",
    "print(np.sum(x, axis=0))  # Compute sum of each column\n",
    "print(np.sum(x, axis=1))  # Compute sum of each row"
   ]
  },
  {
   "cell_type": "markdown",
   "metadata": {},
   "source": [
    "We can easily find minimum/maximum of NumPy array:"
   ]
  },
  {
   "cell_type": "code",
   "execution_count": 31,
   "metadata": {},
   "outputs": [
    {
     "name": "stdout",
     "output_type": "stream",
     "text": [
      "1.0\n",
      "4.0\n"
     ]
    }
   ],
   "source": [
    "print(np.min(x)) \n",
    "print(np.max(x))"
   ]
  },
  {
   "cell_type": "markdown",
   "metadata": {},
   "source": [
    "## <a id=\"Broadcasting\"></a>Broadcasting\n",
    "\n",
    "\n",
    "Strictly, arithmetic may only be performed on arrays that have the same dimensions and dimensions with the same size.\n",
    "This means that a one-dimensional array with the length of 10 can only perform arithmetic with another one-dimensional array with the length 10.\n",
    "\n",
    "This limitation on array arithmetic is quite limiting indeed. \n",
    "Thankfully, NumPy provides a built-in workaround to allow arithmetic between arrays with differing sizes.\n",
    "Concept is called broadcasting.\n",
    "\n",
    "Broadcasting is the name given to the method that NumPy uses to allow array arithmetic between arrays with a different shape or size.\n",
    "\n",
    "Recall that for arrays of the same size, binary operations are performed on an element-by-element basis:"
   ]
  },
  {
   "cell_type": "code",
   "execution_count": 32,
   "metadata": {},
   "outputs": [
    {
     "data": {
      "text/plain": [
       "array([5, 6, 7])"
      ]
     },
     "execution_count": 32,
     "metadata": {},
     "output_type": "execute_result"
    }
   ],
   "source": [
    "a = np.array([0, 1, 2])\n",
    "b = np.array([5, 5, 5])\n",
    "a + b"
   ]
  },
  {
   "cell_type": "markdown",
   "metadata": {},
   "source": [
    "Broadcasting allows these types of binary operations to be performed on arrays of different sizes, for example:\n"
   ]
  },
  {
   "cell_type": "code",
   "execution_count": 33,
   "metadata": {},
   "outputs": [
    {
     "data": {
      "text/plain": [
       "array([5, 6, 7])"
      ]
     },
     "execution_count": 33,
     "metadata": {},
     "output_type": "execute_result"
    }
   ],
   "source": [
    "a = np.array([0, 1, 2])\n",
    "a + 5"
   ]
  },
  {
   "cell_type": "markdown",
   "metadata": {},
   "source": [
    "Let's add a one-dimensional array to a two-dimensional array:"
   ]
  },
  {
   "cell_type": "code",
   "execution_count": 34,
   "metadata": {},
   "outputs": [
    {
     "data": {
      "text/plain": [
       "array([[1., 2., 3.],\n",
       "       [1., 2., 3.],\n",
       "       [1., 2., 3.]])"
      ]
     },
     "execution_count": 34,
     "metadata": {},
     "output_type": "execute_result"
    }
   ],
   "source": [
    "a = np.array([0, 1, 2]) # one dimension (1,3)\n",
    "b = np.ones((3, 3)) # two dimensions(3,3)\n",
    "b + a # result two dimensions(3,3)\n"
   ]
  },
  {
   "cell_type": "markdown",
   "metadata": {},
   "source": [
    "Now let's try even more complicated case:"
   ]
  },
  {
   "cell_type": "code",
   "execution_count": 35,
   "metadata": {},
   "outputs": [
    {
     "name": "stdout",
     "output_type": "stream",
     "text": [
      "[0 1 2]\n",
      "[[0]\n",
      " [1]\n",
      " [2]]\n"
     ]
    }
   ],
   "source": [
    "a = np.arange(3)\n",
    "b = np.arange(3)[:, np.newaxis]\n",
    "print(a)\n",
    "print(b)"
   ]
  },
  {
   "cell_type": "code",
   "execution_count": 36,
   "metadata": {},
   "outputs": [
    {
     "name": "stdout",
     "output_type": "stream",
     "text": [
      "[[0 1 2]\n",
      " [1 2 3]\n",
      " [2 3 4]]\n"
     ]
    }
   ],
   "source": [
    "c = a + b\n",
    "print(c)"
   ]
  },
  {
   "cell_type": "markdown",
   "metadata": {},
   "source": [
    "So, we can see that NumPy in fact streches one value into the shape of other value.\n",
    "Broadcasting solves the problem of arithmetic between arrays of different shapes by replicating the smaller array along the last mismatched dimension.\n",
    "\n",
    "## <a id=\"NumpyDocumentation\"></a>Numpy Documentation\n",
    "\n",
    "\n",
    "This brief overview has touched on many of the important things that you need to know about NumPy, but is far from complete.   \n",
    "You can check NumPy [reference documentation](https://docs.scipy.org/doc/numpy/reference/) to find out all details."
   ]
  },
  {
   "cell_type": "code",
   "execution_count": null,
   "metadata": {
    "collapsed": true
   },
   "outputs": [],
   "source": []
  }
 ],
 "metadata": {
  "kernelspec": {
   "display_name": "Python 3",
   "language": "python",
   "name": "python3"
  },
  "language_info": {
   "codemirror_mode": {
    "name": "ipython",
    "version": 3
   },
   "file_extension": ".py",
   "mimetype": "text/x-python",
   "name": "python",
   "nbconvert_exporter": "python",
   "pygments_lexer": "ipython3",
   "version": "3.6.3"
  }
 },
 "nbformat": 4,
 "nbformat_minor": 2
}
